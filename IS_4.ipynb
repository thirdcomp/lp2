{
 "cells": [
  {
   "cell_type": "code",
   "execution_count": 6,
   "id": "a2833898",
   "metadata": {},
   "outputs": [
    {
     "name": "stdout",
     "output_type": "stream",
     "text": [
      "Enter First Prime No.: 7\n",
      "Enter Second Prime No.: 5\n",
      "Enter PlainText: hello\n",
      "Encrypted Text: 18\n",
      "Decrypted Text: \u0002\n"
     ]
    }
   ],
   "source": [
    "import random\n",
    "\n",
    "def gcd(a, b):\n",
    "    while b != 0:\n",
    "        a, b = b, a % b\n",
    "    return a\n",
    "\n",
    "def multiplicative_inverse(e, phi):\n",
    "    d = 0\n",
    "    x1, x2, y1 = 1, 0, 1\n",
    "    temp_phi = phi\n",
    "\n",
    "    while e > 0:\n",
    "        temp1 = temp_phi // e\n",
    "        temp2 = temp_phi - temp1 * e\n",
    "        temp_phi, e = e, temp2\n",
    "\n",
    "        x = x2 - temp1 * x1\n",
    "        y = d - temp1 * y1\n",
    "\n",
    "        x2, x1 = x1, x\n",
    "        d, y1 = y1, y\n",
    "\n",
    "    if temp_phi == 1:\n",
    "        return d + phi \n",
    "\n",
    "\n",
    "def generate_keypair(p, q):\n",
    "    n = p * q\n",
    "    phi = (p - 1) * (q - 1)\n",
    "\n",
    "    e = random.randrange(2, phi)\n",
    "    while gcd(e, phi) != 1:\n",
    "        e = random.randrange(2, phi)\n",
    "\n",
    "    d = multiplicative_inverse(e, phi)\n",
    "\n",
    "    return ((e, n), (d, n))\n",
    "\n",
    "def encrypt(public_key, plaintext):\n",
    "    e, n = public_key\n",
    "\n",
    "    message_int = int.from_bytes(plaintext.encode(), 'big')  \n",
    "    cipher = pow(message_int, e, n)  # Encrypt\n",
    "    return cipher\n",
    "\n",
    "def decrypt(private_key, ciphertext):\n",
    "    d, n = private_key\n",
    "\n",
    "    decrypted_int = pow(ciphertext, d, n)\n",
    "    decrypted_text = decrypted_int.to_bytes((decrypted_int.bit_length() + 7) // 8, 'big').decode()\n",
    "    return decrypted_text\n",
    "\n",
    "\n",
    "p = int(input(\"Enter First Prime No.: \"))\n",
    "q = int(input(\"Enter Second Prime No.: \"))\n",
    "\n",
    "public_key, private_key = generate_keypair(p, q)\n",
    "\n",
    "plaintext = input(\"Enter PlainText: \")\n",
    "ciphertext = encrypt(public_key, plaintext)\n",
    "print(\"Encrypted Text:\", ciphertext)\n",
    "\n",
    "decrypted_text = decrypt(private_key, ciphertext)\n",
    "print(\"Decrypted Text:\", decrypted_text)\n"
   ]
  }
 ],
 "metadata": {
  "kernelspec": {
   "display_name": "Python 3 (ipykernel)",
   "language": "python",
   "name": "python3"
  },
  "language_info": {
   "codemirror_mode": {
    "name": "ipython",
    "version": 3
   },
   "file_extension": ".py",
   "mimetype": "text/x-python",
   "name": "python",
   "nbconvert_exporter": "python",
   "pygments_lexer": "ipython3",
   "version": "3.11.4"
  }
 },
 "nbformat": 4,
 "nbformat_minor": 5
}
