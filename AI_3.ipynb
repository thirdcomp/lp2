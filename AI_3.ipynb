{
 "cells": [
  {
   "cell_type": "code",
   "execution_count": null,
   "metadata": {
    "colab": {
     "base_uri": "https://localhost:8080/"
    },
    "id": "YOepvoXn-fRi",
    "outputId": "07cddf01-d616-4655-c0a0-a0d3652823e5"
   },
   "outputs": [
    {
     "data": {
      "text/plain": [
       "[5, 7, 9, 10, 13, 20]"
      ]
     },
     "execution_count": 3,
     "metadata": {},
     "output_type": "execute_result"
    }
   ],
   "source": [
    "# -------------------------#SeLectton Sort:----------------------\n",
    "def selection_sort(arr):\n",
    "    for i in range(len(arr)):\n",
    "        min_index=i\n",
    "        for j in range(i+1, len(arr)):\n",
    "            if arr[j]<arr[min_index]:\n",
    "                min_index=j\n",
    "        arr[i], arr[min_index]=arr[min_index], arr[i]\n",
    "    return arr\n",
    "a1=[20,10,5,7,9,13]\n",
    "selection_sort(a1)\n",
    "\n",
    "# -------------------#prims algorithm------------------\n",
    "import heapq\n",
    "\n",
    "def prim(graph, start):\n",
    "    mst=[]\n",
    "    visited=set([start])\n",
    "    edges=[(cost,start,to) for to, cost in graph[start].items()] \n",
    "    heapq.heapify(edges)\n",
    "    while edges :\n",
    "        cost, frm, to =  heapq.heappop(edges)\n",
    "        if to not in visited:\n",
    "            visited.add(to)\n",
    "            mst.append((frm,to, cost))\n",
    "            for to_next, cost2 in graph [to].items():\n",
    "                if to_next not in visited:\n",
    "                    heapq.heappush(edges,(cost2, to, to_next))\n",
    "    return mst\n",
    "graph={\n",
    "    'A':{'B':2, 'C':3},\n",
    "    'B':{'A':2, 'C':1, 'D':1},\n",
    "    'C':{'A':3, 'B':1, 'D':4},\n",
    "    'D':{'B':1, 'C':4}\n",
    "}\n",
    "print(prim(graph, 'A'))"
   ]
  }
 ],
 "metadata": {
  "colab": {
   "provenance": []
  },
  "kernelspec": {
   "display_name": "Python 3",
   "language": "python",
   "name": "python3"
  },
  "language_info": {
   "codemirror_mode": {
    "name": "ipython",
    "version": 3
   },
   "file_extension": ".py",
   "mimetype": "text/x-python",
   "name": "python",
   "nbconvert_exporter": "python",
   "pygments_lexer": "ipython3",
   "version": "3.12.2"
  }
 },
 "nbformat": 4,
 "nbformat_minor": 1
}
