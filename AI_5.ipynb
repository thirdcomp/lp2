{
 "cells": [
  {
   "cell_type": "code",
   "execution_count": null,
   "id": "f4694150",
   "metadata": {},
   "outputs": [
    {
     "name": "stdout",
     "output_type": "stream",
     "text": [
      "hi i'm chatbot ,how can i help you today\n",
      "you : hello\n",
      "chatbot : hello there! how are you doing today\n"
     ]
    }
   ],
   "source": [
    "def chatbot():\n",
    "    print(\"hi i'm chatbot ,how can i help you today\")\n",
    "    while True:\n",
    "        user_input=input(\"you : \")\n",
    "        if user_input.lower()==\"bye\":\n",
    "            print(\"chatbot : bye ! have a great day\")\n",
    "            break\n",
    "        elif user_input.lower()==\"hello\":\n",
    "            print(\"chatbot : hello there! how are you doing today\")\n",
    "        elif user_input.lower()==\"how are you\":s\n",
    "            print(\" chatbot : i'm doing great thanks for asking,what would you like to see\")\n",
    "        elif user_input.lower()==\"phone\":\n",
    "            print(\" chatbot : Which brand\")\n",
    "        elif user_input.lower()==\"apple\":\n",
    "            print(\" chatbot : ok. what is your budget\")\n",
    "        elif user_input.lower()==\"100000\":\n",
    "            print(\" chatbot : ok\")\n",
    "        elif user_input.lower()==\"ok\":\n",
    "            print(\" chatbot : Here are some top models\")\n",
    "        elif user_input.lower()==\"Thank you\":\n",
    "            print(\"welcome\")\n",
    "            print(\"See you again\")\n",
    "        else :\n",
    "            print(\"chatbot : i didn't understand what you said ,can you please rephrase\")\n",
    "chatbot()"
   ]
  },
  {
   "cell_type": "code",
   "execution_count": null,
   "id": "c9df3b6c",
   "metadata": {},
   "outputs": [],
   "source": []
  }
 ],
 "metadata": {
  "kernelspec": {
   "display_name": "Python 3 (ipykernel)",
   "language": "python",
   "name": "python3"
  },
  "language_info": {
   "codemirror_mode": {
    "name": "ipython",
    "version": 3
   },
   "file_extension": ".py",
   "mimetype": "text/x-python",
   "name": "python",
   "nbconvert_exporter": "python",
   "pygments_lexer": "ipython3",
   "version": "3.11.4"
  }
 },
 "nbformat": 4,
 "nbformat_minor": 5
}
