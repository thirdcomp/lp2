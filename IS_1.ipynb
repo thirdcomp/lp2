{
 "cells": [
  {
   "cell_type": "code",
   "execution_count": 2,
   "id": "230ffa37",
   "metadata": {},
   "outputs": [
    {
     "name": "stdout",
     "output_type": "stream",
     "text": [
      "Enter String:Atharva\n",
      "Original String: Atharva\n",
      "AND Result: Atharva\n",
      "\t\u001e",
      "R Result: >\u000b",
      "\u0017\u001e",
      "\n"
     ]
    }
   ],
   "source": [
    "string=input(\"Enter String:\")\n",
    "res_and=\"\"\n",
    "res_xor=\"\"\n",
    "\n",
    "for char in string:\n",
    "    and_val=ord(char)&127\n",
    "    xor_val=ord(char)^127\n",
    "    \n",
    "    res_and+=chr(and_val)\n",
    "    res_xor+=chr(xor_val)\n",
    "\n",
    "print(\"Original String:\",string)\n",
    "print(\"AND Result:\",res_and)\n",
    "print(\"XOR Result:\",res_xor)\n",
    "    "
   ]
  }
 ],
 "metadata": {
  "kernelspec": {
   "display_name": "Python 3 (ipykernel)",
   "language": "python",
   "name": "python3"
  },
  "language_info": {
   "codemirror_mode": {
    "name": "ipython",
    "version": 3
   },
   "file_extension": ".py",
   "mimetype": "text/x-python",
   "name": "python",
   "nbconvert_exporter": "python",
   "pygments_lexer": "ipython3",
   "version": "3.11.4"
  }
 },
 "nbformat": 4,
 "nbformat_minor": 5
}
